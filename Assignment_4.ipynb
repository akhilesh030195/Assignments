{
 "cells": [
  {
   "cell_type": "markdown",
   "id": "40eae262",
   "metadata": {},
   "source": [
    "1.1 Write a Python Program(with class concepts) to find the area of the triangle using the below\n",
    "formula.\n",
    "area = (s*(s-a)*(s-b)*(s-c)) ** 0.5\n",
    "Function to take the length of the sides of triangle from user should be defined in the parent\n",
    "class and function to calculate the area should be defined in subclass."
   ]
  },
  {
   "cell_type": "code",
   "execution_count": 43,
   "id": "2cf2eb92",
   "metadata": {},
   "outputs": [
    {
     "name": "stdout",
     "output_type": "stream",
     "text": [
      "40\n",
      "50\n",
      "50\n",
      "916.515138991168\n"
     ]
    }
   ],
   "source": [
    "#1\n",
    "#Area of a triangle\n",
    "class triangle_properties:\n",
    "    def __init__(self,a,b,c):\n",
    "        self.a = a\n",
    "        self.b = b\n",
    "        self.c = c\n",
    "class triangle_area(triangle_properties):\n",
    "    def __init__(self,*args):\n",
    "        super(triangle_area,self).__init__(*args)\n",
    "    def area_of_triangle(self):\n",
    "        s = (a+b+c)/2\n",
    "        area = (s*(s-a)*(s-b)*(s-c))**0.5\n",
    "        return area\n",
    "a = float(input())\n",
    "b = float(input())\n",
    "c = float(input())\n",
    "tr1 = triangle_area(a,b,c)\n",
    "d=float(tr1.area_of_triangle())\n",
    "print(d)\n",
    "    "
   ]
  },
  {
   "cell_type": "markdown",
   "id": "dff3377c",
   "metadata": {},
   "source": [
    "1.2 Write a function filter_long_words() that takes a list of words and an integer n and returns\n",
    "the list of words that are longer than n"
   ]
  },
  {
   "cell_type": "code",
   "execution_count": 9,
   "id": "0bf2f088",
   "metadata": {},
   "outputs": [
    {
     "name": "stdout",
     "output_type": "stream",
     "text": [
      "['Akhi', 'Navami', 'Anuja', 'Shwetha', 'Shreya', 'John']\n"
     ]
    }
   ],
   "source": [
    "#2\n",
    "def filter_long_words(n=int(),b=list()):\n",
    "    m=[]\n",
    "    for i in b:\n",
    "        if len(i) > n:\n",
    "            m.append(i)\n",
    "    return m\n",
    "k=filter_long_words(3,[\"Akhi\",\"Anu\",\"Navami\",\"Anuja\",\"Shwetha\",\"Shreya\",\"Lak\",\"John\"])\n",
    "print(k)\n",
    "        \n",
    "        \n",
    "    "
   ]
  },
  {
   "cell_type": "markdown",
   "id": "22dca7d9",
   "metadata": {},
   "source": [
    "2.1 Write a Python program using function concept that maps list of words into a list of integers\n",
    "representing the lengths of the corresponding words.\n",
    "Hint: If a list [ ab,cde,erty] is passed on to the python function output should come as [2,3,4]\n",
    "Here 2,3 and 4 are the lengths of the words in the list."
   ]
  },
  {
   "cell_type": "code",
   "execution_count": 12,
   "id": "7c6f0719",
   "metadata": {},
   "outputs": [
    {
     "data": {
      "text/plain": [
       "[8, 6, 4, 5, 6]"
      ]
     },
     "execution_count": 12,
     "metadata": {},
     "output_type": "execute_result"
    }
   ],
   "source": [
    "#3\n",
    "l=[\"Akhilesh\",\"Navami\",\"John\",\"Anuja\",\"Shreya\"]\n",
    "n= map(lambda x:len(x),l)\n",
    "list(n)"
   ]
  },
  {
   "cell_type": "markdown",
   "id": "663794d3",
   "metadata": {},
   "source": [
    "2.2 Write a Python function which takes a character (i.e. a string of length 1) and returns True if\n",
    "it is a vowel, False otherwise.\n"
   ]
  },
  {
   "cell_type": "code",
   "execution_count": 40,
   "id": "95da8968",
   "metadata": {},
   "outputs": [
    {
     "name": "stdout",
     "output_type": "stream",
     "text": [
      "B\n"
     ]
    },
    {
     "data": {
      "text/plain": [
       "False"
      ]
     },
     "execution_count": 40,
     "metadata": {},
     "output_type": "execute_result"
    }
   ],
   "source": [
    "#4\n",
    "def vowel_check(char):\n",
    "    char = char\n",
    "    if (char == ('a' or 'e' or 'i' or 'o' or 'u')):\n",
    "        return True\n",
    "    else:\n",
    "        return False\n",
    "\n",
    "i = input()\n",
    "char=i.lower()\n",
    "vowel_check(char)\n"
   ]
  },
  {
   "cell_type": "code",
   "execution_count": null,
   "id": "ddf9f631",
   "metadata": {},
   "outputs": [],
   "source": [
    "\n"
   ]
  },
  {
   "cell_type": "code",
   "execution_count": null,
   "id": "416f3ccd",
   "metadata": {},
   "outputs": [],
   "source": []
  }
 ],
 "metadata": {
  "kernelspec": {
   "display_name": "Python 3",
   "language": "python",
   "name": "python3"
  },
  "language_info": {
   "codemirror_mode": {
    "name": "ipython",
    "version": 3
   },
   "file_extension": ".py",
   "mimetype": "text/x-python",
   "name": "python",
   "nbconvert_exporter": "python",
   "pygments_lexer": "ipython3",
   "version": "3.8.8"
  }
 },
 "nbformat": 4,
 "nbformat_minor": 5
}
